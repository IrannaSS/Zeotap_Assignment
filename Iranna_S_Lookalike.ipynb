{
 "cells": [
  {
   "cell_type": "code",
   "execution_count": 1,
   "id": "7c0748d7",
   "metadata": {},
   "outputs": [],
   "source": [
    "import pandas as pd\n",
    "\n",
    "# Load datasets\n",
    "customers = pd.read_csv(\"Customers.csv\")\n",
    "products = pd.read_csv(\"Products.csv\")\n",
    "transactions = pd.read_csv(\"Transactions.csv\")"
   ]
  },
  {
   "cell_type": "code",
   "execution_count": 2,
   "id": "e60a6900",
   "metadata": {},
   "outputs": [
    {
     "name": "stdout",
     "output_type": "stream",
     "text": [
      "  TransactionID CustomerID ProductID      TransactionDate  Quantity  \\\n",
      "0        T00001      C0199      P067  2024-08-25 12:38:23         1   \n",
      "1        T00112      C0146      P067  2024-05-27 22:23:54         1   \n",
      "2        T00166      C0127      P067  2024-04-25 07:38:55         1   \n",
      "3        T00272      C0087      P067  2024-03-26 22:55:37         2   \n",
      "4        T00363      C0070      P067  2024-03-21 15:10:10         3   \n",
      "\n",
      "   TotalValue  Price_x     CustomerName         Region  SignupDate  \\\n",
      "0      300.68   300.68   Andrea Jenkins         Europe  2022-12-03   \n",
      "1      300.68   300.68  Brittany Harvey           Asia  2024-09-04   \n",
      "2      300.68   300.68  Kathryn Stevens         Europe  2024-04-04   \n",
      "3      601.36   300.68  Travis Campbell  South America  2024-04-11   \n",
      "4      902.04   300.68    Timothy Perez         Europe  2022-03-15   \n",
      "\n",
      "                       ProductName     Category  Price_y  \n",
      "0  ComfortLiving Bluetooth Speaker  Electronics   300.68  \n",
      "1  ComfortLiving Bluetooth Speaker  Electronics   300.68  \n",
      "2  ComfortLiving Bluetooth Speaker  Electronics   300.68  \n",
      "3  ComfortLiving Bluetooth Speaker  Electronics   300.68  \n",
      "4  ComfortLiving Bluetooth Speaker  Electronics   300.68  \n"
     ]
    }
   ],
   "source": [
    "# Merge datasets\n",
    "merged_data = transactions.merge(customers, on=\"CustomerID\").merge(products, on=\"ProductID\")\n",
    "print(merged_data.head())"
   ]
  },
  {
   "cell_type": "code",
   "execution_count": 3,
   "id": "cb340779",
   "metadata": {},
   "outputs": [],
   "source": [
    "# Aggregate features for customers\n",
    "customer_features = merged_data.groupby(\"CustomerID\").agg(\n",
    "    TotalSpending=(\"TotalValue\", \"sum\"),\n",
    "    TransactionFrequency=(\"TransactionID\", \"nunique\")\n",
    ").reset_index()"
   ]
  },
  {
   "cell_type": "code",
   "execution_count": 4,
   "id": "38792391",
   "metadata": {},
   "outputs": [],
   "source": [
    "# Add category preferences\n",
    "category_prefs = pd.pivot_table(\n",
    "    merged_data,\n",
    "    index=\"CustomerID\",\n",
    "    columns=\"Category\",\n",
    "    values=\"Quantity\",\n",
    "    aggfunc=\"sum\",\n",
    "    fill_value=0\n",
    ").reset_index()"
   ]
  },
  {
   "cell_type": "code",
   "execution_count": 5,
   "id": "6a17c883",
   "metadata": {},
   "outputs": [
    {
     "name": "stdout",
     "output_type": "stream",
     "text": [
      "  CustomerID  TotalSpending  TransactionFrequency  Books  Clothing  \\\n",
      "0      C0001        3354.52                     5      2         0   \n",
      "1      C0002        1862.74                     4      0         4   \n",
      "2      C0003        2725.38                     4      0         4   \n",
      "3      C0004        5354.88                     8      8         0   \n",
      "4      C0005        2034.24                     3      0         0   \n",
      "\n",
      "   Electronics  Home Decor  \n",
      "0            7           3  \n",
      "1            0           6  \n",
      "2            4           6  \n",
      "3            6           9  \n",
      "4            4           3  \n"
     ]
    }
   ],
   "source": [
    "# Merge features\n",
    "customer_features = customer_features.merge(category_prefs, on=\"CustomerID\")\n",
    "print(customer_features.head())"
   ]
  },
  {
   "cell_type": "code",
   "execution_count": 6,
   "id": "3039a05c",
   "metadata": {},
   "outputs": [],
   "source": [
    "from sklearn.preprocessing import StandardScaler\n",
    "\n",
    "# Normalize features\n",
    "scaler = StandardScaler()\n",
    "normalized_features = scaler.fit_transform(customer_features.iloc[:, 1:])"
   ]
  },
  {
   "cell_type": "code",
   "execution_count": 7,
   "id": "acb3a078",
   "metadata": {},
   "outputs": [],
   "source": [
    "from sklearn.metrics.pairwise import cosine_similarity\n",
    "\n",
    "# Compute cosine similarity\n",
    "similarity_matrix = cosine_similarity(normalized_features)"
   ]
  },
  {
   "cell_type": "code",
   "execution_count": 8,
   "id": "ad1e3bdf",
   "metadata": {},
   "outputs": [
    {
     "name": "stdout",
     "output_type": "stream",
     "text": [
      "CustomerID     C0001     C0002     C0003     C0004     C0005     C0006  \\\n",
      "CustomerID                                                               \n",
      "C0001       1.000000 -0.323057  0.189517  0.222293  0.583006 -0.836235   \n",
      "C0002      -0.323057  1.000000  0.740619 -0.413772  0.426889  0.137827   \n",
      "C0003       0.189517  0.740619  1.000000 -0.201259  0.536835 -0.345058   \n",
      "C0004       0.222293 -0.413772 -0.201259  1.000000 -0.427631 -0.192366   \n",
      "C0005       0.583006  0.426889  0.536835 -0.427631  1.000000 -0.411362   \n",
      "\n",
      "CustomerID     C0007     C0008     C0009     C0010  ...     C0191     C0192  \\\n",
      "CustomerID                                          ...                       \n",
      "C0001       0.596059 -0.109688  0.027800 -0.643218  ... -0.077121  0.449518   \n",
      "C0002       0.455898  0.031128  0.519927  0.401687  ... -0.556709 -0.130186   \n",
      "C0003       0.620168  0.233947  0.253767  0.135473  ... -0.862575 -0.163888   \n",
      "C0004      -0.292203  0.300643 -0.861581 -0.778517  ...  0.135306 -0.545208   \n",
      "C0005       0.973490 -0.500065  0.729690 -0.125315  ... -0.203782  0.650493   \n",
      "\n",
      "CustomerID     C0193     C0194     C0195     C0196     C0197     C0198  \\\n",
      "CustomerID                                                               \n",
      "C0001      -0.278544  0.215080 -0.085935 -0.634708  0.756302  0.026611   \n",
      "C0002      -0.402595 -0.242688  0.569862  0.419573  0.243675  0.516771   \n",
      "C0003      -0.799409 -0.024242  0.741657  0.156716  0.541170  0.282780   \n",
      "C0004       0.079346  0.603137  0.281570 -0.030786 -0.306051 -0.866601   \n",
      "C0005      -0.239080 -0.410871 -0.040999 -0.236742  0.953873  0.754683   \n",
      "\n",
      "CustomerID     C0199     C0200  \n",
      "CustomerID                      \n",
      "C0001       0.422915 -0.827686  \n",
      "C0002       0.674523  0.165733  \n",
      "C0003       0.713044 -0.003583  \n",
      "C0004      -0.083595 -0.079335  \n",
      "C0005       0.832463 -0.688715  \n",
      "\n",
      "[5 rows x 199 columns]\n"
     ]
    }
   ],
   "source": [
    "# Create a DataFrame for easy access\n",
    "similarity_df = pd.DataFrame(similarity_matrix, index=customer_features[\"CustomerID\"], columns=customer_features[\"CustomerID\"])\n",
    "print(similarity_df.head())"
   ]
  },
  {
   "cell_type": "code",
   "execution_count": 9,
   "id": "2c6ee55a",
   "metadata": {},
   "outputs": [],
   "source": [
    "# Get top 3 similar customers for the first 20 customers\n",
    "lookalike_results = {}\n",
    "\n",
    "for cust_id in customer_features[\"CustomerID\"][:20]:\n",
    "    similar_customers = similarity_df[cust_id].sort_values(ascending=False).iloc[1:4]\n",
    "    lookalike_results[cust_id] = list(similar_customers.items())"
   ]
  },
  {
   "cell_type": "code",
   "execution_count": 10,
   "id": "b2115e1d",
   "metadata": {},
   "outputs": [],
   "source": [
    "# Convert to the required CSV format\n",
    "lookalike_output = []\n",
    "\n",
    "for cust_id, similar_list in lookalike_results.items():\n",
    "    for sim_cust, score in similar_list:\n",
    "        lookalike_output.append([cust_id, sim_cust, score])\n",
    "\n",
    "lookalike_df = pd.DataFrame(lookalike_output, columns=[\"CustomerID\", \"SimilarCustomerID\", \"SimilarityScore\"])\n",
    "lookalike_df.to_csv(\"iranna_Lookalike.csv\", index=False)"
   ]
  },
  {
   "cell_type": "code",
   "execution_count": 11,
   "id": "95d5ab76",
   "metadata": {},
   "outputs": [
    {
     "data": {
      "text/html": [
       "<div>\n",
       "<style scoped>\n",
       "    .dataframe tbody tr th:only-of-type {\n",
       "        vertical-align: middle;\n",
       "    }\n",
       "\n",
       "    .dataframe tbody tr th {\n",
       "        vertical-align: top;\n",
       "    }\n",
       "\n",
       "    .dataframe thead th {\n",
       "        text-align: right;\n",
       "    }\n",
       "</style>\n",
       "<table border=\"1\" class=\"dataframe\">\n",
       "  <thead>\n",
       "    <tr style=\"text-align: right;\">\n",
       "      <th></th>\n",
       "      <th>CustomerID</th>\n",
       "      <th>SimilarCustomerID</th>\n",
       "      <th>SimilarityScore</th>\n",
       "    </tr>\n",
       "  </thead>\n",
       "  <tbody>\n",
       "    <tr>\n",
       "      <th>0</th>\n",
       "      <td>C0001</td>\n",
       "      <td>C0069</td>\n",
       "      <td>0.933006</td>\n",
       "    </tr>\n",
       "    <tr>\n",
       "      <th>1</th>\n",
       "      <td>C0001</td>\n",
       "      <td>C0026</td>\n",
       "      <td>0.904200</td>\n",
       "    </tr>\n",
       "    <tr>\n",
       "      <th>2</th>\n",
       "      <td>C0001</td>\n",
       "      <td>C0157</td>\n",
       "      <td>0.855824</td>\n",
       "    </tr>\n",
       "    <tr>\n",
       "      <th>3</th>\n",
       "      <td>C0002</td>\n",
       "      <td>C0178</td>\n",
       "      <td>0.956485</td>\n",
       "    </tr>\n",
       "    <tr>\n",
       "      <th>4</th>\n",
       "      <td>C0002</td>\n",
       "      <td>C0133</td>\n",
       "      <td>0.949490</td>\n",
       "    </tr>\n",
       "  </tbody>\n",
       "</table>\n",
       "</div>"
      ],
      "text/plain": [
       "  CustomerID SimilarCustomerID  SimilarityScore\n",
       "0      C0001             C0069         0.933006\n",
       "1      C0001             C0026         0.904200\n",
       "2      C0001             C0157         0.855824\n",
       "3      C0002             C0178         0.956485\n",
       "4      C0002             C0133         0.949490"
      ]
     },
     "execution_count": 11,
     "metadata": {},
     "output_type": "execute_result"
    }
   ],
   "source": [
    "irannacsv=pd.read_csv(\"iranna_Lookalike.csv\")\n",
    "irannacsv.head()"
   ]
  },
  {
   "cell_type": "markdown",
   "id": "37bde4b9",
   "metadata": {},
   "source": [
    "# Insight:\n",
    "For Customer C0001, the top 3 similar customers identified using the Lookalike Model are:\n",
    "\n",
    "C0069 with a similarity score of 0.933\n",
    "\n",
    "C0026 with a similarity score of 0.904\n",
    "\n",
    "C0157 with a similarity score of 0.855"
   ]
  },
  {
   "cell_type": "code",
   "execution_count": 12,
   "id": "80f1258f",
   "metadata": {},
   "outputs": [
    {
     "data": {
      "image/png": "[encoded data removed]",
      "text/plain": [
       "<Figure size 640x480 with 2 Axes>"
      ]
     },
     "metadata": {},
     "output_type": "display_data"
    }
   ],
   "source": [
    "import seaborn as sns\n",
    "import matplotlib.pyplot as plt\n",
    "\n",
    "sns.heatmap(similarity_df.iloc[:20, :20], cmap=\"coolwarm\", annot=False)\n",
    "plt.title(\"Customer Similarity Heatmap (Top 20)\")\n",
    "plt.show()"
   ]
  },
  {
   "cell_type": "code",
   "execution_count": null,
   "id": "71f5a362",
   "metadata": {},
   "outputs": [],
   "source": []
  }
 ],
 "metadata": {
  "kernelspec": {
   "display_name": "Python 3 (ipykernel)",
   "language": "python",
   "name": "python3"
  },
  "language_info": {
   "codemirror_mode": {
    "name": "ipython",
    "version": 3
   },
   "file_extension": ".py",
   "mimetype": "text/x-python",
   "name": "python",
   "nbconvert_exporter": "python",
   "pygments_lexer": "ipython3",
   "version": "3.10.9"
  }
 },
 "nbformat": 4,
 "nbformat_minor": 5
}
